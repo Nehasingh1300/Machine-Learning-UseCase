{
  "nbformat": 4,
  "nbformat_minor": 0,
  "metadata": {
    "colab": {
      "name": "Lung Cancer Detection.ipynb",
      "provenance": []
    },
    "kernelspec": {
      "name": "python3",
      "display_name": "Python 3"
    },
    "language_info": {
      "name": "python"
    },
    "widgets": {
      "application/vnd.jupyter.widget-state+json": {
        "fb19162245444cfd9806be0c924e8770": {
          "model_module": "@jupyter-widgets/controls",
          "model_name": "VBoxModel",
          "state": {
            "_view_name": "VBoxView",
            "_dom_classes": [
              "widget-interact"
            ],
            "_model_name": "VBoxModel",
            "_view_module": "@jupyter-widgets/controls",
            "_model_module_version": "1.5.0",
            "_view_count": null,
            "_view_module_version": "1.5.0",
            "box_style": "",
            "layout": "IPY_MODEL_8bcd04c8cd97460d9f46ed21728894c0",
            "_model_module": "@jupyter-widgets/controls",
            "children": [
              "IPY_MODEL_0107bb42f6824debbda941f7f16a0f23",
              "IPY_MODEL_3f07b8de5d8d4250a2aca725b658bc17",
              "IPY_MODEL_2206416ff51e4f9f9b32d22c420db280"
            ]
          }
        },
        "8bcd04c8cd97460d9f46ed21728894c0": {
          "model_module": "@jupyter-widgets/base",
          "model_name": "LayoutModel",
          "state": {
            "_view_name": "LayoutView",
            "grid_template_rows": null,
            "right": null,
            "justify_content": null,
            "_view_module": "@jupyter-widgets/base",
            "overflow": null,
            "_model_module_version": "1.2.0",
            "_view_count": null,
            "flex_flow": null,
            "width": null,
            "min_width": null,
            "border": null,
            "align_items": null,
            "bottom": null,
            "_model_module": "@jupyter-widgets/base",
            "top": null,
            "grid_column": null,
            "overflow_y": null,
            "overflow_x": null,
            "grid_auto_flow": null,
            "grid_area": null,
            "grid_template_columns": null,
            "flex": null,
            "_model_name": "LayoutModel",
            "justify_items": null,
            "grid_row": null,
            "max_height": null,
            "align_content": null,
            "visibility": null,
            "align_self": null,
            "height": null,
            "min_height": null,
            "padding": null,
            "grid_auto_rows": null,
            "grid_gap": null,
            "max_width": null,
            "order": null,
            "_view_module_version": "1.2.0",
            "grid_template_areas": null,
            "object_position": null,
            "object_fit": null,
            "grid_auto_columns": null,
            "margin": null,
            "display": null,
            "left": null
          }
        },
        "0107bb42f6824debbda941f7f16a0f23": {
          "model_module": "@jupyter-widgets/controls",
          "model_name": "FloatSliderModel",
          "state": {
            "_view_name": "FloatSliderView",
            "style": "IPY_MODEL_fc91ec2484ee4c60ac0eb5901ccf06cb",
            "_dom_classes": [],
            "description": "height",
            "step": 0.5,
            "_model_name": "FloatSliderModel",
            "orientation": "horizontal",
            "max": 3.5,
            "_view_module": "@jupyter-widgets/controls",
            "_model_module_version": "1.5.0",
            "value": 2.5,
            "_view_count": null,
            "disabled": false,
            "_view_module_version": "1.5.0",
            "min": 1,
            "continuous_update": true,
            "readout_format": ".2f",
            "description_tooltip": null,
            "readout": true,
            "_model_module": "@jupyter-widgets/controls",
            "layout": "IPY_MODEL_7658e855d07748129c79c71d1b7fbb04"
          }
        },
        "3f07b8de5d8d4250a2aca725b658bc17": {
          "model_module": "@jupyter-widgets/controls",
          "model_name": "FloatSliderModel",
          "state": {
            "_view_name": "FloatSliderView",
            "style": "IPY_MODEL_c7f7a33e6a9d4a29afdda43168f026af",
            "_dom_classes": [],
            "description": "aspect",
            "step": 0.25,
            "_model_name": "FloatSliderModel",
            "orientation": "horizontal",
            "max": 2,
            "_view_module": "@jupyter-widgets/controls",
            "_model_module_version": "1.5.0",
            "value": 1,
            "_view_count": null,
            "disabled": false,
            "_view_module_version": "1.5.0",
            "min": 0.5,
            "continuous_update": true,
            "readout_format": ".2f",
            "description_tooltip": null,
            "readout": true,
            "_model_module": "@jupyter-widgets/controls",
            "layout": "IPY_MODEL_1c717452b65541878b94ef22a676299d"
          }
        },
        "2206416ff51e4f9f9b32d22c420db280": {
          "model_module": "@jupyter-widgets/output",
          "model_name": "OutputModel",
          "state": {
            "_view_name": "OutputView",
            "msg_id": "",
            "_dom_classes": [],
            "_model_name": "OutputModel",
            "outputs": [
              {
                "output_type": "display_data",
                "metadata": {
                  "tags": [],
                  "needs_background": "light"
                },
                "image/png": "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\n",
                "text/plain": "<Figure size 762.375x720 with 20 Axes>"
              }
            ],
            "_view_module": "@jupyter-widgets/output",
            "_model_module_version": "1.0.0",
            "_view_count": null,
            "_view_module_version": "1.0.0",
            "layout": "IPY_MODEL_dbe94e8e6f3144389ddd03283d63c6da",
            "_model_module": "@jupyter-widgets/output"
          }
        },
        "fc91ec2484ee4c60ac0eb5901ccf06cb": {
          "model_module": "@jupyter-widgets/controls",
          "model_name": "SliderStyleModel",
          "state": {
            "_view_name": "StyleView",
            "handle_color": null,
            "_model_name": "SliderStyleModel",
            "description_width": "",
            "_view_module": "@jupyter-widgets/base",
            "_model_module_version": "1.5.0",
            "_view_count": null,
            "_view_module_version": "1.2.0",
            "_model_module": "@jupyter-widgets/controls"
          }
        },
        "7658e855d07748129c79c71d1b7fbb04": {
          "model_module": "@jupyter-widgets/base",
          "model_name": "LayoutModel",
          "state": {
            "_view_name": "LayoutView",
            "grid_template_rows": null,
            "right": null,
            "justify_content": null,
            "_view_module": "@jupyter-widgets/base",
            "overflow": null,
            "_model_module_version": "1.2.0",
            "_view_count": null,
            "flex_flow": null,
            "width": null,
            "min_width": null,
            "border": null,
            "align_items": null,
            "bottom": null,
            "_model_module": "@jupyter-widgets/base",
            "top": null,
            "grid_column": null,
            "overflow_y": null,
            "overflow_x": null,
            "grid_auto_flow": null,
            "grid_area": null,
            "grid_template_columns": null,
            "flex": null,
            "_model_name": "LayoutModel",
            "justify_items": null,
            "grid_row": null,
            "max_height": null,
            "align_content": null,
            "visibility": null,
            "align_self": null,
            "height": null,
            "min_height": null,
            "padding": null,
            "grid_auto_rows": null,
            "grid_gap": null,
            "max_width": null,
            "order": null,
            "_view_module_version": "1.2.0",
            "grid_template_areas": null,
            "object_position": null,
            "object_fit": null,
            "grid_auto_columns": null,
            "margin": null,
            "display": null,
            "left": null
          }
        },
        "c7f7a33e6a9d4a29afdda43168f026af": {
          "model_module": "@jupyter-widgets/controls",
          "model_name": "SliderStyleModel",
          "state": {
            "_view_name": "StyleView",
            "handle_color": null,
            "_model_name": "SliderStyleModel",
            "description_width": "",
            "_view_module": "@jupyter-widgets/base",
            "_model_module_version": "1.5.0",
            "_view_count": null,
            "_view_module_version": "1.2.0",
            "_model_module": "@jupyter-widgets/controls"
          }
        },
        "1c717452b65541878b94ef22a676299d": {
          "model_module": "@jupyter-widgets/base",
          "model_name": "LayoutModel",
          "state": {
            "_view_name": "LayoutView",
            "grid_template_rows": null,
            "right": null,
            "justify_content": null,
            "_view_module": "@jupyter-widgets/base",
            "overflow": null,
            "_model_module_version": "1.2.0",
            "_view_count": null,
            "flex_flow": null,
            "width": null,
            "min_width": null,
            "border": null,
            "align_items": null,
            "bottom": null,
            "_model_module": "@jupyter-widgets/base",
            "top": null,
            "grid_column": null,
            "overflow_y": null,
            "overflow_x": null,
            "grid_auto_flow": null,
            "grid_area": null,
            "grid_template_columns": null,
            "flex": null,
            "_model_name": "LayoutModel",
            "justify_items": null,
            "grid_row": null,
            "max_height": null,
            "align_content": null,
            "visibility": null,
            "align_self": null,
            "height": null,
            "min_height": null,
            "padding": null,
            "grid_auto_rows": null,
            "grid_gap": null,
            "max_width": null,
            "order": null,
            "_view_module_version": "1.2.0",
            "grid_template_areas": null,
            "object_position": null,
            "object_fit": null,
            "grid_auto_columns": null,
            "margin": null,
            "display": null,
            "left": null
          }
        },
        "dbe94e8e6f3144389ddd03283d63c6da": {
          "model_module": "@jupyter-widgets/base",
          "model_name": "LayoutModel",
          "state": {
            "_view_name": "LayoutView",
            "grid_template_rows": null,
            "right": null,
            "justify_content": null,
            "_view_module": "@jupyter-widgets/base",
            "overflow": null,
            "_model_module_version": "1.2.0",
            "_view_count": null,
            "flex_flow": null,
            "width": null,
            "min_width": null,
            "border": null,
            "align_items": null,
            "bottom": null,
            "_model_module": "@jupyter-widgets/base",
            "top": null,
            "grid_column": null,
            "overflow_y": null,
            "overflow_x": null,
            "grid_auto_flow": null,
            "grid_area": null,
            "grid_template_columns": null,
            "flex": null,
            "_model_name": "LayoutModel",
            "justify_items": null,
            "grid_row": null,
            "max_height": null,
            "align_content": null,
            "visibility": null,
            "align_self": null,
            "height": null,
            "min_height": null,
            "padding": null,
            "grid_auto_rows": null,
            "grid_gap": null,
            "max_width": null,
            "order": null,
            "_view_module_version": "1.2.0",
            "grid_template_areas": null,
            "object_position": null,
            "object_fit": null,
            "grid_auto_columns": null,
            "margin": null,
            "display": null,
            "left": null
          }
        }
      }
    }
  },
  "cells": [
    {
      "cell_type": "code",
      "metadata": {
        "colab": {
          "base_uri": "https://localhost:8080/"
        },
        "id": "8BmS7fBouYV-",
        "outputId": "dd4b5147-9e27-46ed-8c97-22381fcd2c32"
      },
      "source": [
        "from google.colab import drive\n",
        "drive.mount(\"/content/gdrive\")"
      ],
      "execution_count": null,
      "outputs": [
        {
          "output_type": "stream",
          "text": [
            "Mounted at /content/gdrive\n"
          ],
          "name": "stdout"
        }
      ]
    },
    {
      "cell_type": "code",
      "metadata": {
        "id": "49g_aSUju6OK"
      },
      "source": [
        "import numpy as np \n",
        "import pandas as pd \n",
        "import matplotlib.pyplot as plt\n",
        "import seaborn as sns\n",
        "\n",
        "from sklearn import preprocessing\n",
        "from sklearn.preprocessing import MinMaxScaler"
      ],
      "execution_count": null,
      "outputs": []
    },
    {
      "cell_type": "markdown",
      "metadata": {
        "id": "V5_ckfRR5_6J"
      },
      "source": [
        "**Data** Mining"
      ]
    },
    {
      "cell_type": "code",
      "metadata": {
        "id": "zN64PQeovlQJ"
      },
      "source": [
        "df = pd.read_csv(\"/content/gdrive/MyDrive/Neha Singh/lung_cancer_examples.csv\")"
      ],
      "execution_count": null,
      "outputs": []
    },
    {
      "cell_type": "code",
      "metadata": {
        "colab": {
          "base_uri": "https://localhost:8080/",
          "height": 197
        },
        "id": "t8L3XqcFvmC0",
        "outputId": "070c6295-d7d6-4ab3-f6e6-a4622c01eaef"
      },
      "source": [
        "df.head()"
      ],
      "execution_count": null,
      "outputs": [
        {
          "output_type": "execute_result",
          "data": {
            "text/html": [
              "<div>\n",
              "<style scoped>\n",
              "    .dataframe tbody tr th:only-of-type {\n",
              "        vertical-align: middle;\n",
              "    }\n",
              "\n",
              "    .dataframe tbody tr th {\n",
              "        vertical-align: top;\n",
              "    }\n",
              "\n",
              "    .dataframe thead th {\n",
              "        text-align: right;\n",
              "    }\n",
              "</style>\n",
              "<table border=\"1\" class=\"dataframe\">\n",
              "  <thead>\n",
              "    <tr style=\"text-align: right;\">\n",
              "      <th></th>\n",
              "      <th>Name</th>\n",
              "      <th>Surname</th>\n",
              "      <th>Age</th>\n",
              "      <th>Smokes</th>\n",
              "      <th>AreaQ</th>\n",
              "      <th>Alkhol</th>\n",
              "      <th>Result</th>\n",
              "    </tr>\n",
              "  </thead>\n",
              "  <tbody>\n",
              "    <tr>\n",
              "      <th>0</th>\n",
              "      <td>John</td>\n",
              "      <td>Wick</td>\n",
              "      <td>35</td>\n",
              "      <td>3</td>\n",
              "      <td>5</td>\n",
              "      <td>4</td>\n",
              "      <td>1</td>\n",
              "    </tr>\n",
              "    <tr>\n",
              "      <th>1</th>\n",
              "      <td>John</td>\n",
              "      <td>Constantine</td>\n",
              "      <td>27</td>\n",
              "      <td>20</td>\n",
              "      <td>2</td>\n",
              "      <td>5</td>\n",
              "      <td>1</td>\n",
              "    </tr>\n",
              "    <tr>\n",
              "      <th>2</th>\n",
              "      <td>Camela</td>\n",
              "      <td>Anderson</td>\n",
              "      <td>30</td>\n",
              "      <td>0</td>\n",
              "      <td>5</td>\n",
              "      <td>2</td>\n",
              "      <td>0</td>\n",
              "    </tr>\n",
              "    <tr>\n",
              "      <th>3</th>\n",
              "      <td>Alex</td>\n",
              "      <td>Telles</td>\n",
              "      <td>28</td>\n",
              "      <td>0</td>\n",
              "      <td>8</td>\n",
              "      <td>1</td>\n",
              "      <td>0</td>\n",
              "    </tr>\n",
              "    <tr>\n",
              "      <th>4</th>\n",
              "      <td>Diego</td>\n",
              "      <td>Maradona</td>\n",
              "      <td>68</td>\n",
              "      <td>4</td>\n",
              "      <td>5</td>\n",
              "      <td>6</td>\n",
              "      <td>1</td>\n",
              "    </tr>\n",
              "  </tbody>\n",
              "</table>\n",
              "</div>"
            ],
            "text/plain": [
              "     Name      Surname  Age  Smokes  AreaQ  Alkhol  Result\n",
              "0    John         Wick   35       3      5       4       1\n",
              "1    John  Constantine   27      20      2       5       1\n",
              "2  Camela     Anderson   30       0      5       2       0\n",
              "3    Alex       Telles   28       0      8       1       0\n",
              "4   Diego     Maradona   68       4      5       6       1"
            ]
          },
          "metadata": {
            "tags": []
          },
          "execution_count": 5
        }
      ]
    },
    {
      "cell_type": "code",
      "metadata": {
        "id": "G5QqmHfJ4XCc"
      },
      "source": [
        "df.columns = ['Name', 'Surname', 'Age', 'Smokes', 'AirQ', 'Alcohol', 'Result']"
      ],
      "execution_count": null,
      "outputs": []
    },
    {
      "cell_type": "code",
      "metadata": {
        "colab": {
          "base_uri": "https://localhost:8080/"
        },
        "id": "Y34-ue1Kvtk4",
        "outputId": "9f6a69f9-d96e-43e1-d6d8-53b1f5d149a8"
      },
      "source": [
        "df.info()"
      ],
      "execution_count": null,
      "outputs": [
        {
          "output_type": "stream",
          "text": [
            "<class 'pandas.core.frame.DataFrame'>\n",
            "RangeIndex: 59 entries, 0 to 58\n",
            "Data columns (total 7 columns):\n",
            " #   Column   Non-Null Count  Dtype \n",
            "---  ------   --------------  ----- \n",
            " 0   Name     59 non-null     object\n",
            " 1   Surname  59 non-null     object\n",
            " 2   Age      59 non-null     int64 \n",
            " 3   Smokes   59 non-null     int64 \n",
            " 4   AirQ     59 non-null     int64 \n",
            " 5   Alcohol  59 non-null     int64 \n",
            " 6   Result   59 non-null     int64 \n",
            "dtypes: int64(5), object(2)\n",
            "memory usage: 3.4+ KB\n"
          ],
          "name": "stdout"
        }
      ]
    },
    {
      "cell_type": "code",
      "metadata": {
        "colab": {
          "base_uri": "https://localhost:8080/"
        },
        "id": "GE7OqNe3v3cv",
        "outputId": "f7ba400e-465f-4a7a-d70e-1c0248b52df0"
      },
      "source": [
        "df.Result.value_counts()"
      ],
      "execution_count": null,
      "outputs": [
        {
          "output_type": "execute_result",
          "data": {
            "text/plain": [
              "0    31\n",
              "1    28\n",
              "Name: Result, dtype: int64"
            ]
          },
          "metadata": {
            "tags": []
          },
          "execution_count": 8
        }
      ]
    },
    {
      "cell_type": "markdown",
      "metadata": {
        "id": "9sC8KqfS6uDB"
      },
      "source": [
        "Data Cleaning"
      ]
    },
    {
      "cell_type": "code",
      "metadata": {
        "colab": {
          "base_uri": "https://localhost:8080/"
        },
        "id": "5SBsgK2G6tnH",
        "outputId": "d4d4edc6-2395-471b-eae2-efbd53819af2"
      },
      "source": [
        "df.isnull().sum()"
      ],
      "execution_count": null,
      "outputs": [
        {
          "output_type": "execute_result",
          "data": {
            "text/plain": [
              "Name       0\n",
              "Surname    0\n",
              "Age        0\n",
              "Smokes     0\n",
              "AirQ       0\n",
              "Alcohol    0\n",
              "Result     0\n",
              "dtype: int64"
            ]
          },
          "metadata": {
            "tags": []
          },
          "execution_count": 9
        }
      ]
    },
    {
      "cell_type": "markdown",
      "metadata": {
        "id": "--I_npVLwWMF"
      },
      "source": [
        "Data Exploration"
      ]
    },
    {
      "cell_type": "code",
      "metadata": {
        "id": "fcJZ8iyc1hVq"
      },
      "source": [
        "from ipywidgets import interactive\n",
        "\n",
        "def size_widget(height=2.5, aspect=1):\n",
        "  sns.pairplot(df, hue=\"Result\", height=height, aspect=aspect)"
      ],
      "execution_count": null,
      "outputs": []
    },
    {
      "cell_type": "code",
      "metadata": {
        "colab": {
          "base_uri": "https://localhost:8080/",
          "height": 790,
          "referenced_widgets": [
            "fb19162245444cfd9806be0c924e8770",
            "8bcd04c8cd97460d9f46ed21728894c0",
            "0107bb42f6824debbda941f7f16a0f23",
            "3f07b8de5d8d4250a2aca725b658bc17",
            "2206416ff51e4f9f9b32d22c420db280",
            "fc91ec2484ee4c60ac0eb5901ccf06cb",
            "7658e855d07748129c79c71d1b7fbb04",
            "c7f7a33e6a9d4a29afdda43168f026af",
            "1c717452b65541878b94ef22a676299d",
            "dbe94e8e6f3144389ddd03283d63c6da"
          ]
        },
        "id": "2npLP13V2Cx2",
        "outputId": "d2cdb1ca-c376-4b41-b3ea-7148fe5cbbae"
      },
      "source": [
        "interactive(size_widget, height=(1, 3.5, 0.5), aspect=(0.5, 2, 0.25))"
      ],
      "execution_count": null,
      "outputs": [
        {
          "output_type": "display_data",
          "data": {
            "application/vnd.jupyter.widget-view+json": {
              "model_id": "fb19162245444cfd9806be0c924e8770",
              "version_minor": 0,
              "version_major": 2
            },
            "text/plain": [
              "interactive(children=(FloatSlider(value=2.5, description='height', max=3.5, min=1.0, step=0.5), FloatSlider(va…"
            ]
          },
          "metadata": {
            "tags": []
          }
        }
      ]
    },
    {
      "cell_type": "markdown",
      "metadata": {
        "id": "zwdSTK913Ibn"
      },
      "source": [
        "We can understand from this plot that:\n",
        "\n",
        "\n",
        "1.   Alcohol is more promiment than smoking\n",
        "2.   More people with higher age has great impact\n",
        "3.   Air Quality has a linear relation with all other factors.\n",
        "\n"
      ]
    },
    {
      "cell_type": "markdown",
      "metadata": {
        "id": "WxFo9z9Q9Kkf"
      },
      "source": [
        "Feature Engineering"
      ]
    },
    {
      "cell_type": "code",
      "metadata": {
        "colab": {
          "base_uri": "https://localhost:8080/",
          "height": 338
        },
        "id": "SGGHGWdQ82w_",
        "outputId": "87257734-725d-44ad-c99e-1f55cc40a59f"
      },
      "source": [
        "print(df['AirQ'].mean())\n",
        "print(df['AirQ'].median())\n",
        "print(df['AirQ'].mode())\n",
        "\n",
        "df.AirQ.value_counts().plot(kind='bar')\n",
        "plt.show()"
      ],
      "execution_count": null,
      "outputs": [
        {
          "output_type": "stream",
          "text": [
            "5.203389830508475\n",
            "5.0\n",
            "0    5\n",
            "dtype: int64\n"
          ],
          "name": "stdout"
        },
        {
          "output_type": "display_data",
          "data": {
            "image/png": "[encoded data removed]",
            "text/plain": [
              "<Figure size 432x288 with 1 Axes>"
            ]
          },
          "metadata": {
            "tags": [],
            "needs_background": "light"
          }
        }
      ]
    },
    {
      "cell_type": "code",
      "metadata": {
        "colab": {
          "base_uri": "https://localhost:8080/",
          "height": 338
        },
        "id": "_8zyFzoF5pJs",
        "outputId": "be8fac6c-3f30-4008-da84-da2241c1591e"
      },
      "source": [
        "print(df['Smokes'].mean())\n",
        "print(df['Smokes'].median())\n",
        "print(df['Smokes'].mode())\n",
        "\n",
        "df.Smokes.value_counts().plot(kind='bar')\n",
        "plt.show()"
      ],
      "execution_count": null,
      "outputs": [
        {
          "output_type": "stream",
          "text": [
            "15.067796610169491\n",
            "15.0\n",
            "0    20\n",
            "dtype: int64\n"
          ],
          "name": "stdout"
        },
        {
          "output_type": "display_data",
          "data": {
            "image/png": "[encoded data removed]",
            "text/plain": [
              "<Figure size 432x288 with 1 Axes>"
            ]
          },
          "metadata": {
            "tags": [],
            "needs_background": "light"
          }
        }
      ]
    },
    {
      "cell_type": "code",
      "metadata": {
        "colab": {
          "base_uri": "https://localhost:8080/",
          "height": 338
        },
        "id": "zZM3sJVb-0tT",
        "outputId": "fa84ca0c-f9a5-421f-bec6-4e07caac2d57"
      },
      "source": [
        "print(df['Age'].mean())\n",
        "print(df['Age'].median())\n",
        "print(df['Age'].mode())\n",
        "\n",
        "df.Age.value_counts().plot(kind='bar')\n",
        "plt.show()"
      ],
      "execution_count": null,
      "outputs": [
        {
          "output_type": "stream",
          "text": [
            "42.6271186440678\n",
            "39.0\n",
            "0    62\n",
            "dtype: int64\n"
          ],
          "name": "stdout"
        },
        {
          "output_type": "display_data",
          "data": {
            "image/png": "[encoded data removed]",
            "text/plain": [
              "<Figure size 432x288 with 1 Axes>"
            ]
          },
          "metadata": {
            "tags": [],
            "needs_background": "light"
          }
        }
      ]
    },
    {
      "cell_type": "code",
      "metadata": {
        "colab": {
          "base_uri": "https://localhost:8080/",
          "height": 333
        },
        "id": "tHjOsU6C-8yy",
        "outputId": "7b4a0adc-e61d-4bbb-c20b-3a40de3e048b"
      },
      "source": [
        "print(df['Alcohol'].mean())\n",
        "print(df['Alcohol'].median())\n",
        "print(df['Alcohol'].mode())\n",
        "\n",
        "df.Alcohol.value_counts().plot(kind='bar')\n",
        "plt.show()"
      ],
      "execution_count": null,
      "outputs": [
        {
          "output_type": "stream",
          "text": [
            "3.23728813559322\n",
            "3.0\n",
            "0    2\n",
            "dtype: int64\n"
          ],
          "name": "stdout"
        },
        {
          "output_type": "display_data",
          "data": {
            "image/png": "[encoded data removed]",
            "text/plain": [
              "<Figure size 432x288 with 1 Axes>"
            ]
          },
          "metadata": {
            "tags": [],
            "needs_background": "light"
          }
        }
      ]
    },
    {
      "cell_type": "markdown",
      "metadata": {
        "id": "HKfPI4K0_29C"
      },
      "source": [
        "From the above vizualization, we can fin out:\n",
        "\n",
        "\n",
        "1.   There are no outliers\n",
        "2.   Data is correct according to domain knowledge\n",
        "\n"
      ]
    },
    {
      "cell_type": "markdown",
      "metadata": {
        "id": "yRCDl0xbAJ2B"
      },
      "source": [
        "Predictive Modeling\n",
        "\n",
        "We will divide our dataset into train, and test in 30:70 ratio, and then feed to our model."
      ]
    },
    {
      "cell_type": "code",
      "metadata": {
        "id": "wRlf1n1mA7mM"
      },
      "source": [
        "Y = df[\"Result\"]"
      ],
      "execution_count": null,
      "outputs": []
    },
    {
      "cell_type": "code",
      "metadata": {
        "id": "4R10PatKKFYn"
      },
      "source": [
        "del df[\"Result\"]\n",
        "del df[\"Name\"]\n",
        "del df[\"Surname\"]"
      ],
      "execution_count": null,
      "outputs": []
    },
    {
      "cell_type": "code",
      "metadata": {
        "colab": {
          "base_uri": "https://localhost:8080/",
          "height": 197
        },
        "id": "n8J5u4lHLHmL",
        "outputId": "8cb42af3-dafb-4589-ba00-8e14cf517b41"
      },
      "source": [
        "X = df\n",
        "X.head()"
      ],
      "execution_count": null,
      "outputs": [
        {
          "output_type": "execute_result",
          "data": {
            "text/html": [
              "<div>\n",
              "<style scoped>\n",
              "    .dataframe tbody tr th:only-of-type {\n",
              "        vertical-align: middle;\n",
              "    }\n",
              "\n",
              "    .dataframe tbody tr th {\n",
              "        vertical-align: top;\n",
              "    }\n",
              "\n",
              "    .dataframe thead th {\n",
              "        text-align: right;\n",
              "    }\n",
              "</style>\n",
              "<table border=\"1\" class=\"dataframe\">\n",
              "  <thead>\n",
              "    <tr style=\"text-align: right;\">\n",
              "      <th></th>\n",
              "      <th>Age</th>\n",
              "      <th>Smokes</th>\n",
              "      <th>AirQ</th>\n",
              "      <th>Alcohol</th>\n",
              "    </tr>\n",
              "  </thead>\n",
              "  <tbody>\n",
              "    <tr>\n",
              "      <th>0</th>\n",
              "      <td>35</td>\n",
              "      <td>3</td>\n",
              "      <td>5</td>\n",
              "      <td>4</td>\n",
              "    </tr>\n",
              "    <tr>\n",
              "      <th>1</th>\n",
              "      <td>27</td>\n",
              "      <td>20</td>\n",
              "      <td>2</td>\n",
              "      <td>5</td>\n",
              "    </tr>\n",
              "    <tr>\n",
              "      <th>2</th>\n",
              "      <td>30</td>\n",
              "      <td>0</td>\n",
              "      <td>5</td>\n",
              "      <td>2</td>\n",
              "    </tr>\n",
              "    <tr>\n",
              "      <th>3</th>\n",
              "      <td>28</td>\n",
              "      <td>0</td>\n",
              "      <td>8</td>\n",
              "      <td>1</td>\n",
              "    </tr>\n",
              "    <tr>\n",
              "      <th>4</th>\n",
              "      <td>68</td>\n",
              "      <td>4</td>\n",
              "      <td>5</td>\n",
              "      <td>6</td>\n",
              "    </tr>\n",
              "  </tbody>\n",
              "</table>\n",
              "</div>"
            ],
            "text/plain": [
              "   Age  Smokes  AirQ  Alcohol\n",
              "0   35       3     5        4\n",
              "1   27      20     2        5\n",
              "2   30       0     5        2\n",
              "3   28       0     8        1\n",
              "4   68       4     5        6"
            ]
          },
          "metadata": {
            "tags": []
          },
          "execution_count": 20
        }
      ]
    },
    {
      "cell_type": "code",
      "metadata": {
        "colab": {
          "base_uri": "https://localhost:8080/"
        },
        "id": "pDsIZZ-aLSXt",
        "outputId": "17a14058-e038-4f2b-f925-04c3618dc789"
      },
      "source": [
        "Y.head()"
      ],
      "execution_count": null,
      "outputs": [
        {
          "output_type": "execute_result",
          "data": {
            "text/plain": [
              "0    1\n",
              "1    1\n",
              "2    0\n",
              "3    0\n",
              "4    1\n",
              "Name: Result, dtype: int64"
            ]
          },
          "metadata": {
            "tags": []
          },
          "execution_count": 25
        }
      ]
    },
    {
      "cell_type": "markdown",
      "metadata": {
        "id": "Ky3TufxLLXTo"
      },
      "source": [
        "Splitting Data into Training, and Testing Dataset.\n",
        "\n"
      ]
    },
    {
      "cell_type": "code",
      "metadata": {
        "id": "tniKKi0Q_2cH",
        "colab": {
          "base_uri": "https://localhost:8080/"
        },
        "outputId": "8a9360d1-4d1b-47bc-b072-8b927846d659"
      },
      "source": [
        "from sklearn.model_selection import train_test_split\n",
        "import pandas as pd\n",
        "import numpy as np\n",
        "from sklearn.externals import joblib\n",
        "from sklearn.linear_model import LogisticRegression\n",
        "from sklearn.linear_model import LinearRegression\n",
        "from sklearn import metrics\n",
        "from sklearn.feature_extraction.text import CountVectorizer\n",
        "X_train, X_test,Y_train,Y_test = train_test_split(X,Y,test_size=0.1,stratify=Y,random_state=2)"
      ],
      "execution_count": null,
      "outputs": [
        {
          "output_type": "stream",
          "text": [
            "/usr/local/lib/python3.7/dist-packages/sklearn/externals/joblib/__init__.py:15: FutureWarning: sklearn.externals.joblib is deprecated in 0.21 and will be removed in 0.23. Please import this functionality directly from joblib, which can be installed with: pip install joblib. If this warning is raised when loading pickled models, you may need to re-serialize those models with scikit-learn 0.21+.\n",
            "  warnings.warn(msg, category=FutureWarning)\n"
          ],
          "name": "stderr"
        }
      ]
    },
    {
      "cell_type": "code",
      "metadata": {
        "id": "-UUUe6AJ_E38",
        "colab": {
          "base_uri": "https://localhost:8080/"
        },
        "outputId": "d19a9925-977d-49e2-9bfc-01e82db98e6e"
      },
      "source": [
        "print(X.shape, X_train.shape, X_test.shape, Y_test.shape)"
      ],
      "execution_count": null,
      "outputs": [
        {
          "output_type": "stream",
          "text": [
            "(59, 4) (53, 4) (6, 4) (6,)\n"
          ],
          "name": "stdout"
        }
      ]
    },
    {
      "cell_type": "code",
      "metadata": {
        "id": "zCFKXq9I_nZz"
      },
      "source": [
        "from sklearn.metrics import mean_squared_error"
      ],
      "execution_count": null,
      "outputs": []
    },
    {
      "cell_type": "code",
      "metadata": {
        "colab": {
          "base_uri": "https://localhost:8080/"
        },
        "id": "8DsB8mOWMyP-",
        "outputId": "cdb17cf7-159a-433e-ddc9-c70b713b5de9"
      },
      "source": [
        "model_lr = LogisticRegression()\n",
        "model_lr.fit(X_train,Y_train)\n",
        "prediction_lr = model_lr.predict(X_test)\n",
        "#prediction_lr\n",
        "\n",
        "mean_squared_error(prediction_lr, Y_test)"
      ],
      "execution_count": null,
      "outputs": [
        {
          "output_type": "execute_result",
          "data": {
            "text/plain": [
              "0.0"
            ]
          },
          "metadata": {
            "tags": []
          },
          "execution_count": 24
        }
      ]
    },
    {
      "cell_type": "code",
      "metadata": {
        "colab": {
          "base_uri": "https://localhost:8080/"
        },
        "id": "c7LO-5TNDnv-",
        "outputId": "dec4ad7b-f914-4438-ccb3-02eb4c545625"
      },
      "source": [
        "score = model_lr.score(X_test, Y_test)\n",
        "score"
      ],
      "execution_count": null,
      "outputs": [
        {
          "output_type": "execute_result",
          "data": {
            "text/plain": [
              "1.0"
            ]
          },
          "metadata": {
            "tags": []
          },
          "execution_count": 25
        }
      ]
    },
    {
      "cell_type": "markdown",
      "metadata": {
        "id": "HY1SdC5Yq0mT"
      },
      "source": [
        "SVM "
      ]
    },
    {
      "cell_type": "code",
      "metadata": {
        "colab": {
          "base_uri": "https://localhost:8080/"
        },
        "id": "hu_Jad3Pq1xJ",
        "outputId": "afcfab29-c148-423e-e63a-512021ef4d57"
      },
      "source": [
        "from sklearn import svm\n",
        "clf = svm.SVC()\n",
        "clf.fit(X_test, Y_test)"
      ],
      "execution_count": null,
      "outputs": [
        {
          "output_type": "execute_result",
          "data": {
            "text/plain": [
              "SVC(C=1.0, break_ties=False, cache_size=200, class_weight=None, coef0=0.0,\n",
              "    decision_function_shape='ovr', degree=3, gamma='scale', kernel='rbf',\n",
              "    max_iter=-1, probability=False, random_state=None, shrinking=True,\n",
              "    tol=0.001, verbose=False)"
            ]
          },
          "metadata": {
            "tags": []
          },
          "execution_count": 28
        }
      ]
    },
    {
      "cell_type": "code",
      "metadata": {
        "colab": {
          "base_uri": "https://localhost:8080/"
        },
        "id": "iYFbYjDtrBwx",
        "outputId": "27447e94-6155-48b2-a461-43a8ad22ab5e"
      },
      "source": [
        "predict_svm = clf.predict(X_test)\n",
        "predict_svm"
      ],
      "execution_count": null,
      "outputs": [
        {
          "output_type": "execute_result",
          "data": {
            "text/plain": [
              "array([1, 1, 0, 1, 1, 0])"
            ]
          },
          "metadata": {
            "tags": []
          },
          "execution_count": 29
        }
      ]
    },
    {
      "cell_type": "code",
      "metadata": {
        "colab": {
          "base_uri": "https://localhost:8080/"
        },
        "id": "v7i42QMqrP9Z",
        "outputId": "36facd09-0989-47be-c1e9-f5a975090e83"
      },
      "source": [
        "mean_squared_error(prediction_lr, Y_test)"
      ],
      "execution_count": null,
      "outputs": [
        {
          "output_type": "execute_result",
          "data": {
            "text/plain": [
              "0.0"
            ]
          },
          "metadata": {
            "tags": []
          },
          "execution_count": 31
        }
      ]
    },
    {
      "cell_type": "code",
      "metadata": {
        "colab": {
          "base_uri": "https://localhost:8080/"
        },
        "id": "XasDenkXrTlS",
        "outputId": "8c0d8858-2d23-43ca-90e9-68aac36e15f6"
      },
      "source": [
        "score = model_lr.score(X_test, Y_test)\n",
        "score"
      ],
      "execution_count": null,
      "outputs": [
        {
          "output_type": "execute_result",
          "data": {
            "text/plain": [
              "1.0"
            ]
          },
          "metadata": {
            "tags": []
          },
          "execution_count": 32
        }
      ]
    },
    {
      "cell_type": "code",
      "metadata": {
        "id": "VmqzFm-WrV5U"
      },
      "source": [
        ""
      ],
      "execution_count": null,
      "outputs": []
    }
  ]
}