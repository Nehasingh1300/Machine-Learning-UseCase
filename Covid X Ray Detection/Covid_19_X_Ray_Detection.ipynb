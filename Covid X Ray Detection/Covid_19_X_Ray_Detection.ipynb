{
  "nbformat": 4,
  "nbformat_minor": 0,
  "metadata": {
    "accelerator": "GPU",
    "colab": {
      "name": "Covid_19_X-Ray_Detection.ipynb",
      "provenance": []
    },
    "kernelspec": {
      "display_name": "Python 3",
      "name": "python3"
    },
    "language_info": {
      "name": "python"
    }
  },
  "cells": [
    {
      "cell_type": "code",
      "metadata": {
        "colab": {
          "base_uri": "https://localhost:8080/"
        },
        "id": "izTjREJKdiNV",
        "outputId": "2b75a33f-626d-4939-a598-d681c03ab7c9"
      },
      "source": [
        "from google.colab import drive\n",
        "drive.mount(\"/content/gdrive\")"
      ],
      "execution_count": null,
      "outputs": [
        {
          "output_type": "stream",
          "text": [
            "Mounted at /content/gdrive\n"
          ],
          "name": "stdout"
        }
      ]
    },
    {
      "cell_type": "code",
      "metadata": {
        "id": "MpDfnHVndyX3"
      },
      "source": [
        "TRAIN_PATH = \"/content/gdrive/MyDrive/Neha Singh/Projects/ML/Covid_Dataset/CovidDataset/Train\"\n",
        "VAL_PATH = \"/content/gdrive/MyDrive/Neha Singh/Projects/ML/Covid_Dataset/CovidDataset/Val\""
      ],
      "execution_count": null,
      "outputs": []
    },
    {
      "cell_type": "code",
      "metadata": {
        "id": "XUaCxa5Ld3N5"
      },
      "source": [
        "import numpy as np\n",
        "import matplotlib.pyplot as plt\n",
        "import keras\n",
        "from keras.layers import *\n",
        "from keras.models import * \n",
        "from keras.preprocessing.image import ImageDataGenerator, load_img, img_to_array"
      ],
      "execution_count": null,
      "outputs": []
    },
    {
      "cell_type": "code",
      "metadata": {
        "id": "bkghzgbFd6L9"
      },
      "source": [
        "# CNN Based Model in Keras\n",
        "\n",
        "model = Sequential()\n",
        "model.add(Conv2D(32,kernel_size=(3,3),activation='relu',input_shape=(224,224,3)))\n",
        "model.add(Conv2D(64,(3,3),activation='relu'))\n",
        "model.add(MaxPooling2D(pool_size=(2,2)))\n",
        "model.add(Dropout(0.25))\n",
        "\n",
        "model.add(Conv2D(64,(3,3),activation='relu'))\n",
        "model.add(MaxPooling2D(pool_size=(2,2)))\n",
        "model.add(Dropout(0.25))\n",
        "\n",
        "model.add(Conv2D(128,(3,3),activation='relu'))\n",
        "model.add(MaxPooling2D(pool_size=(2,2)))\n",
        "model.add(Dropout(0.25))\n",
        "\n",
        "model.add(Flatten())\n",
        "model.add(Dense(64,activation='relu'))\n",
        "model.add(Dropout(0.5))\n",
        "model.add(Dense(1,activation='sigmoid'))\n",
        "\n",
        "model.compile(loss=keras.losses.binary_crossentropy,optimizer='adam',metrics=['accuracy'])"
      ],
      "execution_count": null,
      "outputs": []
    },
    {
      "cell_type": "code",
      "metadata": {
        "colab": {
          "base_uri": "https://localhost:8080/"
        },
        "id": "DFLKze8hlN8f",
        "outputId": "6dad61e7-14c4-48a5-a2b4-bafa3e464f1b"
      },
      "source": [
        "model.summary()"
      ],
      "execution_count": null,
      "outputs": [
        {
          "output_type": "stream",
          "text": [
            "Model: \"sequential\"\n",
            "_________________________________________________________________\n",
            "Layer (type)                 Output Shape              Param #   \n",
            "=================================================================\n",
            "conv2d (Conv2D)              (None, 222, 222, 32)      896       \n",
            "_________________________________________________________________\n",
            "conv2d_1 (Conv2D)            (None, 220, 220, 64)      18496     \n",
            "_________________________________________________________________\n",
            "max_pooling2d (MaxPooling2D) (None, 110, 110, 64)      0         \n",
            "_________________________________________________________________\n",
            "dropout (Dropout)            (None, 110, 110, 64)      0         \n",
            "_________________________________________________________________\n",
            "conv2d_2 (Conv2D)            (None, 108, 108, 64)      36928     \n",
            "_________________________________________________________________\n",
            "max_pooling2d_1 (MaxPooling2 (None, 54, 54, 64)        0         \n",
            "_________________________________________________________________\n",
            "dropout_1 (Dropout)          (None, 54, 54, 64)        0         \n",
            "_________________________________________________________________\n",
            "conv2d_3 (Conv2D)            (None, 52, 52, 128)       73856     \n",
            "_________________________________________________________________\n",
            "max_pooling2d_2 (MaxPooling2 (None, 26, 26, 128)       0         \n",
            "_________________________________________________________________\n",
            "dropout_2 (Dropout)          (None, 26, 26, 128)       0         \n",
            "_________________________________________________________________\n",
            "flatten (Flatten)            (None, 86528)             0         \n",
            "_________________________________________________________________\n",
            "dense (Dense)                (None, 64)                5537856   \n",
            "_________________________________________________________________\n",
            "dropout_3 (Dropout)          (None, 64)                0         \n",
            "_________________________________________________________________\n",
            "dense_1 (Dense)              (None, 1)                 65        \n",
            "=================================================================\n",
            "Total params: 5,668,097\n",
            "Trainable params: 5,668,097\n",
            "Non-trainable params: 0\n",
            "_________________________________________________________________\n"
          ],
          "name": "stdout"
        }
      ]
    },
    {
      "cell_type": "code",
      "metadata": {
        "id": "2bsKQbhPlPlO"
      },
      "source": [
        "# Train from scratch\n",
        "train_datagen = image.ImageDataGenerator(\n",
        "    rescale = 1./255,\n",
        "    shear_range = 0.2,\n",
        "    zoom_range = 0.2,\n",
        "    horizontal_flip = True,\n",
        ")\n",
        "\n",
        "test_dataset = image.ImageDataGenerator(rescale=1./255)"
      ],
      "execution_count": null,
      "outputs": []
    },
    {
      "cell_type": "code",
      "metadata": {
        "colab": {
          "base_uri": "https://localhost:8080/"
        },
        "id": "9gkjssrilRlH",
        "outputId": "47578e8b-942c-44bf-9a27-61c745d661c0"
      },
      "source": [
        "train_generator = train_datagen.flow_from_directory(\n",
        "    '/content/gdrive/MyDrive/Neha Singh/Projects/ML/Covid_Dataset/CovidDataset/Train',\n",
        "    target_size = (224,224),\n",
        "    batch_size = 32,\n",
        "    class_mode = 'binary')\n"
      ],
      "execution_count": null,
      "outputs": [
        {
          "output_type": "stream",
          "text": [
            "Found 252 images belonging to 2 classes.\n"
          ],
          "name": "stdout"
        }
      ]
    },
    {
      "cell_type": "code",
      "metadata": {
        "colab": {
          "base_uri": "https://localhost:8080/"
        },
        "id": "aaumvWrwlTIG",
        "outputId": "afe327cc-76e6-4fa6-86a1-bedfd56712b2"
      },
      "source": [
        "train_generator.class_indices"
      ],
      "execution_count": null,
      "outputs": [
        {
          "output_type": "execute_result",
          "data": {
            "text/plain": [
              "{'Covid': 0, 'Normal': 1}"
            ]
          },
          "metadata": {
            "tags": []
          },
          "execution_count": 8
        }
      ]
    },
    {
      "cell_type": "code",
      "metadata": {
        "colab": {
          "base_uri": "https://localhost:8080/"
        },
        "id": "_pIXVMlvlUZc",
        "outputId": "36dd1015-1c7d-4cb4-ab93-3eb907a6043d"
      },
      "source": [
        "validation_generator = test_dataset.flow_from_directory(\n",
        "    '/content/gdrive/MyDrive/Neha Singh/Projects/ML/Covid_Dataset/CovidDataset/Val',\n",
        "    target_size = (224,224),\n",
        "    batch_size = 32,\n",
        "    class_mode = 'binary')"
      ],
      "execution_count": null,
      "outputs": [
        {
          "output_type": "stream",
          "text": [
            "Found 84 images belonging to 2 classes.\n"
          ],
          "name": "stdout"
        }
      ]
    },
    {
      "cell_type": "code",
      "metadata": {
        "colab": {
          "base_uri": "https://localhost:8080/"
        },
        "id": "XZeSSfwXlV6p",
        "outputId": "fb1ccc09-993c-436d-e2b9-a009fcb3ba6d"
      },
      "source": [
        "hist = model.fit(\n",
        "    train_generator,\n",
        "    steps_per_epoch=len(train_generator),\n",
        "    epochs = 10,  \n",
        "    validation_data = validation_generator,\n",
        "    validation_steps=len(validation_generator)\n",
        ")"
      ],
      "execution_count": null,
      "outputs": [
        {
          "output_type": "stream",
          "text": [
            "Epoch 1/10\n",
            "8/8 [==============================] - 132s 13s/step - loss: 1.8388 - accuracy: 0.5460 - val_loss: 0.6829 - val_accuracy: 0.6429\n",
            "Epoch 2/10\n",
            "8/8 [==============================] - 10s 1s/step - loss: 0.6821 - accuracy: 0.5533 - val_loss: 0.6804 - val_accuracy: 0.7738\n",
            "Epoch 3/10\n",
            "8/8 [==============================] - 10s 1s/step - loss: 0.6545 - accuracy: 0.6039 - val_loss: 0.5653 - val_accuracy: 0.6667\n",
            "Epoch 4/10\n",
            "8/8 [==============================] - 10s 1s/step - loss: 0.5332 - accuracy: 0.7562 - val_loss: 0.4296 - val_accuracy: 0.7738\n",
            "Epoch 5/10\n",
            "8/8 [==============================] - 10s 1s/step - loss: 0.3982 - accuracy: 0.7973 - val_loss: 0.3740 - val_accuracy: 0.9762\n",
            "Epoch 6/10\n",
            "8/8 [==============================] - 10s 1s/step - loss: 0.4011 - accuracy: 0.8677 - val_loss: 0.3391 - val_accuracy: 0.9405\n",
            "Epoch 7/10\n",
            "8/8 [==============================] - 10s 1s/step - loss: 0.3524 - accuracy: 0.8697 - val_loss: 0.2041 - val_accuracy: 0.9405\n",
            "Epoch 8/10\n",
            "8/8 [==============================] - 10s 1s/step - loss: 0.1736 - accuracy: 0.9322 - val_loss: 0.1630 - val_accuracy: 0.9405\n",
            "Epoch 9/10\n",
            "8/8 [==============================] - 10s 1s/step - loss: 0.3409 - accuracy: 0.8766 - val_loss: 0.1624 - val_accuracy: 0.9524\n",
            "Epoch 10/10\n",
            "8/8 [==============================] - 10s 1s/step - loss: 0.2207 - accuracy: 0.9455 - val_loss: 0.1547 - val_accuracy: 0.9524\n"
          ],
          "name": "stdout"
        }
      ]
    },
    {
      "cell_type": "code",
      "metadata": {
        "colab": {
          "base_uri": "https://localhost:8080/",
          "height": 295
        },
        "id": "VEPdcnd1dR05",
        "outputId": "37ace5fc-87c6-4942-941b-dee0da278fed"
      },
      "source": [
        "import matplotlib.pyplot as plt\n",
        "plt.plot(hist.history[\"accuracy\"])\n",
        "plt.plot(hist.history[\"loss\"])\n",
        "plt.title(\"Model Accuracy\")\n",
        "plt.ylabel(\"Accuracy\")\n",
        "plt.xlabel(\"Epoch\")\n",
        "plt.legend([\"Accuracy\", \"Loss\"])\n",
        "plt.show()"
      ],
      "execution_count": null,
      "outputs": [
        {
          "output_type": "display_data",
          "data": {
            "image/png": "[encoded data removed]",
            "text/plain": [
              "<Figure size 432x288 with 1 Axes>"
            ]
          },
          "metadata": {
            "tags": [],
            "needs_background": "light"
          }
        }
      ]
    },
    {
      "cell_type": "code",
      "metadata": {
        "colab": {
          "base_uri": "https://localhost:8080/"
        },
        "id": "iCB_OmDMGlLj",
        "outputId": "cf17a792-0e97-4c4d-d497-c1bf91b2b72a"
      },
      "source": [
        "import numpy as np\n",
        "testing = load_img('/content/gdrive/MyDrive/Neha Singh/Projects/ML/Covid_Dataset/CovidDataset/Val/Covid/E63574A7-4188-4C8D-8D17-9D67A18A1AFA.jpeg', target_size=(224,224))\n",
        "testing\n",
        "x = img_to_array(testing)\n",
        "x = x/255\n",
        "x = np.expand_dims(x, axis=0)\n",
        "\n",
        "model.predict_classes(x)"
      ],
      "execution_count": null,
      "outputs": [
        {
          "output_type": "stream",
          "text": [
            "/usr/local/lib/python3.7/dist-packages/tensorflow/python/keras/engine/sequential.py:450: UserWarning: `model.predict_classes()` is deprecated and will be removed after 2021-01-01. Please use instead:* `np.argmax(model.predict(x), axis=-1)`,   if your model does multi-class classification   (e.g. if it uses a `softmax` last-layer activation).* `(model.predict(x) > 0.5).astype(\"int32\")`,   if your model does binary classification   (e.g. if it uses a `sigmoid` last-layer activation).\n",
            "  warnings.warn('`model.predict_classes()` is deprecated and '\n"
          ],
          "name": "stderr"
        },
        {
          "output_type": "execute_result",
          "data": {
            "text/plain": [
              "array([[0]], dtype=int32)"
            ]
          },
          "metadata": {
            "tags": []
          },
          "execution_count": 18
        }
      ]
    },
    {
      "cell_type": "code",
      "metadata": {
        "id": "4dUiGv7kGBmg"
      },
      "source": [
        "model.save('/content/gdrive/MyDrive/Neha Singh/Projects/ML/Covid_Dataset/Model/model.h5')"
      ],
      "execution_count": null,
      "outputs": []
    },
    {
      "cell_type": "code",
      "metadata": {
        "id": "DuESsC9TOwpm"
      },
      "source": [
        "from keras.models import load_model\n",
        "saved_model = load_model('/content/gdrive/MyDrive/Neha Singh/Projects/ML/Covid_Dataset/Model/model.h5')"
      ],
      "execution_count": null,
      "outputs": []
    },
    {
      "cell_type": "code",
      "metadata": {
        "colab": {
          "base_uri": "https://localhost:8080/"
        },
        "id": "A8Vx1itYO-Di",
        "outputId": "84c88b73-6167-4606-9924-8fc00c6b1120"
      },
      "source": [
        "import numpy as np\n",
        "testing = load_img('/content/gdrive/MyDrive/Neha Singh/Projects/ML/Covid_Dataset/CovidDataset/Val/Normal/NORMAL2-IM-0395-0001.jpeg', target_size=(224,224))\n",
        "testing\n",
        "x = img_to_array(testing)\n",
        "x = x/255\n",
        "x = np.expand_dims(x, axis=0)\n",
        "\n",
        "saved_model.predict_classes(x)"
      ],
      "execution_count": null,
      "outputs": [
        {
          "output_type": "stream",
          "text": [
            "/usr/local/lib/python3.7/dist-packages/tensorflow/python/keras/engine/sequential.py:450: UserWarning: `model.predict_classes()` is deprecated and will be removed after 2021-01-01. Please use instead:* `np.argmax(model.predict(x), axis=-1)`,   if your model does multi-class classification   (e.g. if it uses a `softmax` last-layer activation).* `(model.predict(x) > 0.5).astype(\"int32\")`,   if your model does binary classification   (e.g. if it uses a `sigmoid` last-layer activation).\n",
            "  warnings.warn('`model.predict_classes()` is deprecated and '\n"
          ],
          "name": "stderr"
        },
        {
          "output_type": "execute_result",
          "data": {
            "text/plain": [
              "array([[1]], dtype=int32)"
            ]
          },
          "metadata": {
            "tags": []
          },
          "execution_count": 22
        }
      ]
    },
    {
      "cell_type": "markdown",
      "metadata": {
        "id": "sXFbwGBgPYSN"
      },
      "source": [
        "VGG 16"
      ]
    },
    {
      "cell_type": "code",
      "metadata": {
        "colab": {
          "base_uri": "https://localhost:8080/"
        },
        "id": "-oFOEc7WPaH_",
        "outputId": "0c78f774-372a-49b4-8468-9a942ae9981e"
      },
      "source": [
        "VGG = keras.applications.VGG16(input_shape=(224,224,3), include_top=False, weights='imagenet')\n",
        "VGG.trainable = False"
      ],
      "execution_count": null,
      "outputs": [
        {
          "output_type": "stream",
          "text": [
            "Downloading data from https://storage.googleapis.com/tensorflow/keras-applications/vgg16/vgg16_weights_tf_dim_ordering_tf_kernels_notop.h5\n",
            "58892288/58889256 [==============================] - 0s 0us/step\n"
          ],
          "name": "stdout"
        }
      ]
    },
    {
      "cell_type": "code",
      "metadata": {
        "id": "r0PzI_L1QFA-"
      },
      "source": [
        "model_vgg = keras.Sequential(\n",
        "    [\n",
        "     VGG,\n",
        "     keras.layers.Flatten(),\n",
        "     keras.layers.Dense(units=256,activation=\"relu\"),\n",
        "     keras.layers.Dense(units=256,activation=\"relu\"),\n",
        "     keras.layers.Dense(units=2,activation=\"softmax\")\n",
        "    ]\n",
        ")\n",
        "\n",
        "model_vgg.compile(optimizer='adam', loss=keras.losses.categorical_crossentropy, metrics=['accuracy'])"
      ],
      "execution_count": null,
      "outputs": []
    },
    {
      "cell_type": "code",
      "metadata": {
        "colab": {
          "base_uri": "https://localhost:8080/"
        },
        "id": "i21flOlPQEcz",
        "outputId": "ddd63e4b-dd3e-4564-b9e2-aacee26dca8d"
      },
      "source": [
        "model_vgg.summary()"
      ],
      "execution_count": null,
      "outputs": [
        {
          "output_type": "stream",
          "text": [
            "Model: \"sequential_3\"\n",
            "_________________________________________________________________\n",
            "Layer (type)                 Output Shape              Param #   \n",
            "=================================================================\n",
            "vgg16 (Functional)           (None, 7, 7, 512)         14714688  \n",
            "_________________________________________________________________\n",
            "flatten_3 (Flatten)          (None, 25088)             0         \n",
            "_________________________________________________________________\n",
            "dense_8 (Dense)              (None, 256)               6422784   \n",
            "_________________________________________________________________\n",
            "dense_9 (Dense)              (None, 256)               65792     \n",
            "_________________________________________________________________\n",
            "dense_10 (Dense)             (None, 2)                 514       \n",
            "=================================================================\n",
            "Total params: 21,203,778\n",
            "Trainable params: 6,489,090\n",
            "Non-trainable params: 14,714,688\n",
            "_________________________________________________________________\n"
          ],
          "name": "stdout"
        }
      ]
    },
    {
      "cell_type": "code",
      "metadata": {
        "colab": {
          "base_uri": "https://localhost:8080/"
        },
        "id": "Aj36TVfbWXKz",
        "outputId": "f602864e-7298-450a-c397-5d466e8d2a81"
      },
      "source": [
        "trData_vgg = ImageDataGenerator()\n",
        "trainData_vgg = trData_vgg.flow_from_directory('/content/gdrive/MyDrive/Neha Singh/Projects/ML/Covid_Dataset/CovidDataset/Train', target_size=(224,224))\n",
        "\n",
        "tsData_vgg = ImageDataGenerator()\n",
        "testData_vgg = tsData_vgg.flow_from_directory('/content/gdrive/MyDrive/Neha Singh/Projects/ML/Covid_Dataset/CovidDataset/Val', target_size=(224,224))"
      ],
      "execution_count": null,
      "outputs": [
        {
          "output_type": "stream",
          "text": [
            "Found 252 images belonging to 2 classes.\n",
            "Found 84 images belonging to 2 classes.\n"
          ],
          "name": "stdout"
        }
      ]
    },
    {
      "cell_type": "code",
      "metadata": {
        "id": "PnahimuwX-sl"
      },
      "source": [
        "import tensorflow as tf\n",
        "import keras\n",
        "\n",
        "tf.config.run_functions_eagerly(True)"
      ],
      "execution_count": null,
      "outputs": []
    },
    {
      "cell_type": "code",
      "metadata": {
        "colab": {
          "base_uri": "https://localhost:8080/"
        },
        "id": "AO4pcrG9RUDo",
        "outputId": "f2856ae0-8bb8-4456-b3e3-37806e19725b"
      },
      "source": [
        "hist1 = model_vgg.fit(\n",
        "    trainData_vgg,\n",
        "    steps_per_epoch=len(train_generator),\n",
        "    epochs = 10,\n",
        "    validation_data = testData_vgg,\n",
        "    validation_steps = 10\n",
        ")"
      ],
      "execution_count": null,
      "outputs": [
        {
          "output_type": "stream",
          "text": [
            "/usr/local/lib/python3.7/dist-packages/tensorflow/python/data/ops/dataset_ops.py:3504: UserWarning: Even though the tf.config.experimental_run_functions_eagerly option is set, this option does not apply to tf.data functions. tf.data functions are still traced and executed as graphs.\n",
            "  \"Even though the tf.config.experimental_run_functions_eagerly \"\n"
          ],
          "name": "stderr"
        },
        {
          "output_type": "stream",
          "text": [
            "Epoch 1/10\n",
            "8/8 [==============================] - ETA: 0s - loss: 11.9446 - accuracy: 0.9048WARNING:tensorflow:Your input ran out of data; interrupting training. Make sure that your dataset or generator can generate at least `steps_per_epoch * epochs` batches (in this case, 10 batches). You may need to use the repeat() function when building your dataset.\n",
            "8/8 [==============================] - 26s 3s/step - loss: 11.9446 - accuracy: 0.9048 - val_loss: 0.0020 - val_accuracy: 1.0000\n",
            "Epoch 2/10\n",
            "8/8 [==============================] - 8s 908ms/step - loss: 0.6998 - accuracy: 0.9921\n",
            "Epoch 3/10\n",
            "8/8 [==============================] - 8s 921ms/step - loss: 0.0000e+00 - accuracy: 1.0000\n",
            "Epoch 4/10\n",
            "8/8 [==============================] - 8s 920ms/step - loss: 0.0000e+00 - accuracy: 1.0000\n",
            "Epoch 5/10\n",
            "8/8 [==============================] - 8s 887ms/step - loss: 0.0000e+00 - accuracy: 1.0000\n",
            "Epoch 6/10\n",
            "8/8 [==============================] - 8s 925ms/step - loss: 0.0000e+00 - accuracy: 1.0000\n",
            "Epoch 7/10\n",
            "8/8 [==============================] - 8s 890ms/step - loss: 0.0000e+00 - accuracy: 1.0000\n",
            "Epoch 8/10\n",
            "8/8 [==============================] - 8s 914ms/step - loss: 0.0000e+00 - accuracy: 1.0000\n",
            "Epoch 9/10\n",
            "8/8 [==============================] - 8s 918ms/step - loss: 0.0000e+00 - accuracy: 1.0000\n",
            "Epoch 10/10\n",
            "8/8 [==============================] - 8s 933ms/step - loss: 0.0000e+00 - accuracy: 1.0000\n"
          ],
          "name": "stdout"
        }
      ]
    },
    {
      "cell_type": "code",
      "metadata": {
        "colab": {
          "base_uri": "https://localhost:8080/",
          "height": 295
        },
        "id": "n4FE2XlAYOVf",
        "outputId": "7bcc2f6e-8203-4f56-ced2-8e78fa979cc6"
      },
      "source": [
        "import matplotlib.pyplot as plt\n",
        "plt.plot(hist1.history[\"accuracy\"])\n",
        "plt.plot(hist1.history[\"loss\"])\n",
        "plt.title(\"Model Accuracy\")\n",
        "plt.ylabel(\"Accuracy\")\n",
        "plt.xlabel(\"Epoch\")\n",
        "plt.legend([\"Accuracy\", \"Loss\"])\n",
        "plt.show()"
      ],
      "execution_count": null,
      "outputs": [
        {
          "output_type": "display_data",
          "data": {
            "image/png": "[encoded data removed]",
            "text/plain": [
              "<Figure size 432x288 with 1 Axes>"
            ]
          },
          "metadata": {
            "tags": [],
            "needs_background": "light"
          }
        }
      ]
    },
    {
      "cell_type": "code",
      "metadata": {
        "id": "4O3VLCwdZ_dy"
      },
      "source": [
        "model_vgg.save('/content/gdrive/MyDrive/Neha Singh/Projects/ML/Covid_Dataset/Model/model_vgg.h5')"
      ],
      "execution_count": null,
      "outputs": []
    },
    {
      "cell_type": "code",
      "metadata": {
        "colab": {
          "base_uri": "https://localhost:8080/",
          "height": 374
        },
        "id": "cq_NmGlWZFkx",
        "outputId": "699328f4-18d2-4cdf-bd0a-fb8f0217b958"
      },
      "source": [
        "from keras.preprocessing import image\n",
        "img = image.load_img('/content/gdrive/MyDrive/Neha Singh/Projects/ML/Covid_Dataset/CovidDataset/Val/Covid/E63574A7-4188-4C8D-8D17-9D67A18A1AFA.jpeg', target_size=(224,224))\n",
        "img = np.asarray(img)\n",
        "plt.imshow(img)\n",
        "img = np.expand_dims(img, axis=0)\n",
        "\n",
        "model_vgg.predict_classes(img)"
      ],
      "execution_count": null,
      "outputs": [
        {
          "output_type": "stream",
          "text": [
            "/usr/local/lib/python3.7/dist-packages/tensorflow/python/keras/engine/sequential.py:450: UserWarning: `model.predict_classes()` is deprecated and will be removed after 2021-01-01. Please use instead:* `np.argmax(model.predict(x), axis=-1)`,   if your model does multi-class classification   (e.g. if it uses a `softmax` last-layer activation).* `(model.predict(x) > 0.5).astype(\"int32\")`,   if your model does binary classification   (e.g. if it uses a `sigmoid` last-layer activation).\n",
            "  warnings.warn('`model.predict_classes()` is deprecated and '\n",
            "/usr/local/lib/python3.7/dist-packages/tensorflow/python/data/ops/dataset_ops.py:3504: UserWarning: Even though the tf.config.experimental_run_functions_eagerly option is set, this option does not apply to tf.data functions. tf.data functions are still traced and executed as graphs.\n",
            "  \"Even though the tf.config.experimental_run_functions_eagerly \"\n"
          ],
          "name": "stderr"
        },
        {
          "output_type": "execute_result",
          "data": {
            "text/plain": [
              "array([0])"
            ]
          },
          "metadata": {
            "tags": []
          },
          "execution_count": 52
        },
        {
          "output_type": "display_data",
          "data": {
            "image/png": "[encoded data removed]",
            "text/plain": [
              "<Figure size 432x288 with 1 Axes>"
            ]
          },
          "metadata": {
            "tags": [],
            "needs_background": "light"
          }
        }
      ]
    },
    {
      "cell_type": "code",
      "metadata": {
        "id": "Q54gcxeBN1MG"
      },
      "source": [
        "#grad cam \n",
        "#saliency map"
      ],
      "execution_count": null,
      "outputs": []
    }
  ]
}